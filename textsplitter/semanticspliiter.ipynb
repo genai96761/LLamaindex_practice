{
 "cells": [
  {
   "cell_type": "code",
   "execution_count": 24,
   "id": "275f794d",
   "metadata": {},
   "outputs": [],
   "source": [
    "from llama_index.core import SummaryIndex\n",
    "\n",
    "from llama_index.llms.google_genai import GoogleGenAI\n",
    "from llama_index.readers.web import SimpleWebPageReader\n",
    "from IPython.display import Markdown, display\n",
    "import os\n",
    "from llama_index.core import Settings\n",
    "\n",
    "from dotenv import load_dotenv \n",
    "from llama_index.embeddings.google_genai import GoogleGenAIEmbedding\n",
    "\n",
    "\n",
    "embed_model = GoogleGenAIEmbedding(model_name=\"text-embedding-004\")\n",
    "from llama_index.core import VectorStoreIndex\n",
    "from llama_index.core.response.notebook_utils import display_source_node\n",
    "\n",
    "load_dotenv()\n",
    "llm = GoogleGenAI(\n",
    "    model=\"gemini-2.0-flash\",\n",
    "    # api_key=\"some key\",  # uses GOOGLE_API_KEY env var by default\n",
    ")\n",
    "Settings.llm = GoogleGenAI()"
   ]
  },
  {
   "cell_type": "code",
   "execution_count": 6,
   "id": "0c17d768",
   "metadata": {},
   "outputs": [],
   "source": [
    "from llama_index.core import SimpleDirectoryReader\n",
    "from llama_index.core.node_parser import (\n",
    "    SentenceSplitter,\n",
    "    SemanticSplitterNodeParser,\n",
    ")\n",
    "\n",
    "\n",
    "# load documents\n",
    "documents = SimpleDirectoryReader(input_files=[\"mohan.txt\"]).load_data()"
   ]
  },
  {
   "cell_type": "code",
   "execution_count": 8,
   "id": "1a08a16f",
   "metadata": {},
   "outputs": [],
   "source": [
    "splitter=SentenceSplitter(chunk_size=512)\n",
    "nodes=splitter.get_nodes_from_documents(documents)"
   ]
  },
  {
   "cell_type": "code",
   "execution_count": 11,
   "id": "915c221e",
   "metadata": {},
   "outputs": [
    {
     "data": {
      "text/plain": [
       "'Disadvantages of shell scripting:\\r\\n1.Shell scripting is homogenous  that means one shell script only work for one distribution like ubuntu or centos or fedora\\r\\n2. every time we need to do validate\\r\\n3.if we have thousand severs you need to and login the sever and run the script\\r\\n4.imperative that little tough syntax very strict syntax follows sequence\\r\\n5.handling the sensitve data and secrets in shell scripting \\r\\ncan be challenging\\r\\n\\r\\nneed of configuration management tool:\\r\\n\"configuration\" refers to the settings, parameters, or options that determine how a system, application, or service behaves.\\r\\nbefore deploying the application we need to make the server ready  for example.\\r\\n\\tinstalling the packages\\r\\n\\tinstalling the programming languages\\r\\n\\tinstalling the build tools \\r\\n\\tinstalling the application runtime\\r\\n\\tcreation of users ,folders,setting permissions\\r\\n\\tcreation of systemctl services\\r\\n\\r\\nAnsible is an open-source automation tool and configuration management framework that simplifies and streamlines the process of automating tasks, managing configurations, and orchestrating complex workflows in IT environments\\r\\n\\r\\nAnsible has declarative syntax\\r\\n1.ansible can query the server,it can understands what os it is ,based on that it can change the command\\r\\n2.you no need to write validations\\r\\n3.ansble can connect any no of server,no need to login toserver\\r\\n4.declarative syntax no need of sequence and easy syntax\\r\\n\\r\\n pull(puppet,chef)\\r\\n1.first nodes will connect to server to chef server by using the agent software installed\\r\\nNodes should connect to the servers through the agent software\\r\\nNodes should download the configuration periodically say every 30 minutes even there is no change in configuration agents connect to servers that creates unnecessary traffic and data consumption\\r\\n2.next pull configuration\\r\\n3.run the configuration\\r\\n4.installing the another software In the server\\r\\n5.pull mechanism will have additional agent software \\r\\n6.there may not be change in the configuration every time ,\\r\\nIn pull mechanism if there may not be change in the configuration but still agent server connects to server in the every 30 minutes and this consumes power and data\\r\\n7.agent server installed on target system\\r\\n\\r\\n\\r\\npush:\\r\\nServer will directly push and run the configuration\\r\\nAnsible is agentless it uses the ssh to communicate with target hosts,eliminating the need for agent installation and reducing the potenitial security risks.'"
      ]
     },
     "execution_count": 11,
     "metadata": {},
     "output_type": "execute_result"
    }
   ],
   "source": [
    "nodes[0].get_content()"
   ]
  },
  {
   "cell_type": "code",
   "execution_count": 14,
   "id": "b66b218e",
   "metadata": {},
   "outputs": [],
   "source": [
    "vector_index=VectorStoreIndex(nodes,embed_model=embed_model)"
   ]
  },
  {
   "cell_type": "code",
   "execution_count": 16,
   "id": "28dbe61f",
   "metadata": {},
   "outputs": [
    {
     "name": "stdout",
     "output_type": "stream",
     "text": [
      "<llama_index.core.indices.vector_store.base.VectorStoreIndex object at 0x000002AB466AB1D0>\n"
     ]
    }
   ],
   "source": [
    "print(vector_index)"
   ]
  },
  {
   "cell_type": "code",
   "execution_count": 25,
   "id": "df6c0bfe",
   "metadata": {},
   "outputs": [
    {
     "ename": "ValueError",
     "evalue": "llm must start with str 'local' or of type LLM or BaseLanguageModel",
     "output_type": "error",
     "traceback": [
      "\u001b[31m---------------------------------------------------------------------------\u001b[39m",
      "\u001b[31mValueError\u001b[39m                                Traceback (most recent call last)",
      "\u001b[36mCell\u001b[39m\u001b[36m \u001b[39m\u001b[32mIn[25]\u001b[39m\u001b[32m, line 1\u001b[39m\n\u001b[32m----> \u001b[39m\u001b[32m1\u001b[39m query_engine=\u001b[43mvector_index\u001b[49m\u001b[43m.\u001b[49m\u001b[43mas_query_engine\u001b[49m\u001b[43m(\u001b[49m\u001b[33;43m\"\u001b[39;49m\u001b[33;43mwhat is ansible\u001b[39;49m\u001b[33;43m\"\u001b[39;49m\u001b[43m)\u001b[49m\n",
      "\u001b[36mFile \u001b[39m\u001b[32mc:\\Users\\91912\\anaconda3\\Lib\\site-packages\\llama_index\\core\\indices\\base.py:376\u001b[39m, in \u001b[36mBaseIndex.as_query_engine\u001b[39m\u001b[34m(self, llm, **kwargs)\u001b[39m\n\u001b[32m    370\u001b[39m \u001b[38;5;28;01mfrom\u001b[39;00m\u001b[38;5;250m \u001b[39m\u001b[34;01mllama_index\u001b[39;00m\u001b[34;01m.\u001b[39;00m\u001b[34;01mcore\u001b[39;00m\u001b[34;01m.\u001b[39;00m\u001b[34;01mquery_engine\u001b[39;00m\u001b[34;01m.\u001b[39;00m\u001b[34;01mretriever_query_engine\u001b[39;00m\u001b[38;5;250m \u001b[39m\u001b[38;5;28;01mimport\u001b[39;00m (\n\u001b[32m    371\u001b[39m     RetrieverQueryEngine,\n\u001b[32m    372\u001b[39m )\n\u001b[32m    374\u001b[39m retriever = \u001b[38;5;28mself\u001b[39m.as_retriever(**kwargs)\n\u001b[32m    375\u001b[39m llm = (\n\u001b[32m--> \u001b[39m\u001b[32m376\u001b[39m     \u001b[43mresolve_llm\u001b[49m\u001b[43m(\u001b[49m\u001b[43mllm\u001b[49m\u001b[43m,\u001b[49m\u001b[43m \u001b[49m\u001b[43mcallback_manager\u001b[49m\u001b[43m=\u001b[49m\u001b[38;5;28;43mself\u001b[39;49m\u001b[43m.\u001b[49m\u001b[43m_callback_manager\u001b[49m\u001b[43m)\u001b[49m\n\u001b[32m    377\u001b[39m     \u001b[38;5;28;01mif\u001b[39;00m llm\n\u001b[32m    378\u001b[39m     \u001b[38;5;28;01melse\u001b[39;00m Settings.llm\n\u001b[32m    379\u001b[39m )\n\u001b[32m    381\u001b[39m \u001b[38;5;28;01mreturn\u001b[39;00m RetrieverQueryEngine.from_args(\n\u001b[32m    382\u001b[39m     retriever,\n\u001b[32m    383\u001b[39m     llm=llm,\n\u001b[32m    384\u001b[39m     **kwargs,\n\u001b[32m    385\u001b[39m )\n",
      "\u001b[36mFile \u001b[39m\u001b[32mc:\\Users\\91912\\anaconda3\\Lib\\site-packages\\llama_index\\core\\llms\\utils.py:64\u001b[39m, in \u001b[36mresolve_llm\u001b[39m\u001b[34m(llm, callback_manager)\u001b[39m\n\u001b[32m     62\u001b[39m model_path = splits[\u001b[32m1\u001b[39m] \u001b[38;5;28;01mif\u001b[39;00m \u001b[38;5;28mlen\u001b[39m(splits) > \u001b[32m1\u001b[39m \u001b[38;5;28;01melse\u001b[39;00m \u001b[38;5;28;01mNone\u001b[39;00m\n\u001b[32m     63\u001b[39m \u001b[38;5;28;01mif\u001b[39;00m is_local != \u001b[33m\"\u001b[39m\u001b[33mlocal\u001b[39m\u001b[33m\"\u001b[39m:\n\u001b[32m---> \u001b[39m\u001b[32m64\u001b[39m     \u001b[38;5;28;01mraise\u001b[39;00m \u001b[38;5;167;01mValueError\u001b[39;00m(\n\u001b[32m     65\u001b[39m         \u001b[33m\"\u001b[39m\u001b[33mllm must start with str \u001b[39m\u001b[33m'\u001b[39m\u001b[33mlocal\u001b[39m\u001b[33m'\u001b[39m\u001b[33m or of type LLM or BaseLanguageModel\u001b[39m\u001b[33m\"\u001b[39m\n\u001b[32m     66\u001b[39m     )\n\u001b[32m     67\u001b[39m \u001b[38;5;28;01mtry\u001b[39;00m:\n\u001b[32m     68\u001b[39m     \u001b[38;5;28;01mfrom\u001b[39;00m\u001b[38;5;250m \u001b[39m\u001b[34;01mllama_index\u001b[39;00m\u001b[34;01m.\u001b[39;00m\u001b[34;01mllms\u001b[39;00m\u001b[34;01m.\u001b[39;00m\u001b[34;01mllama_cpp\u001b[39;00m\u001b[34;01m.\u001b[39;00m\u001b[34;01mllama_utils\u001b[39;00m\u001b[38;5;250m \u001b[39m\u001b[38;5;28;01mimport\u001b[39;00m (\n\u001b[32m     69\u001b[39m         completion_to_prompt,\n\u001b[32m     70\u001b[39m         messages_to_prompt,\n\u001b[32m     71\u001b[39m     )  \u001b[38;5;66;03m# pants: no-infer-dep\u001b[39;00m\n",
      "\u001b[31mValueError\u001b[39m: llm must start with str 'local' or of type LLM or BaseLanguageModel"
     ]
    }
   ],
   "source": [
    "query_engine=vector_index.as_query_engine(\"what is ansible\")"
   ]
  },
  {
   "cell_type": "code",
   "execution_count": null,
   "id": "d5e4afdd",
   "metadata": {},
   "outputs": [],
   "source": [
    "\n",
    "for n in response.source_nodes:\n",
    "    display_source_node(n, source_length=20000)"
   ]
  }
 ],
 "metadata": {
  "kernelspec": {
   "display_name": "base",
   "language": "python",
   "name": "python3"
  },
  "language_info": {
   "codemirror_mode": {
    "name": "ipython",
    "version": 3
   },
   "file_extension": ".py",
   "mimetype": "text/x-python",
   "name": "python",
   "nbconvert_exporter": "python",
   "pygments_lexer": "ipython3",
   "version": "3.12.7"
  }
 },
 "nbformat": 4,
 "nbformat_minor": 5
}
