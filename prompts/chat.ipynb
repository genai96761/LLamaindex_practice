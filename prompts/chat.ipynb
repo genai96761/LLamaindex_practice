{
 "cells": [
  {
   "cell_type": "code",
   "execution_count": 1,
   "id": "187bf5cd",
   "metadata": {},
   "outputs": [
    {
     "data": {
      "text/plain": [
       "True"
      ]
     },
     "execution_count": 1,
     "metadata": {},
     "output_type": "execute_result"
    }
   ],
   "source": [
    "from llama_index.core import SummaryIndex\n",
    "\n",
    "from llama_index.llms.google_genai import GoogleGenAI\n",
    "from llama_index.readers.web import SimpleWebPageReader\n",
    "from IPython.display import Markdown, display\n",
    "import os\n",
    "from dotenv import load_dotenv \n",
    "\n",
    "load_dotenv()"
   ]
  },
  {
   "cell_type": "code",
   "execution_count": 2,
   "id": "e399a696",
   "metadata": {},
   "outputs": [],
   "source": [
    "llm = GoogleGenAI(\n",
    "    model=\"gemini-2.0-flash\",\n",
    "    # api_key=\"some key\",  # uses GOOGLE_API_KEY env var by default\n",
    ")"
   ]
  },
  {
   "cell_type": "code",
   "execution_count": 3,
   "id": "695c6bce",
   "metadata": {},
   "outputs": [
    {
     "data": {
      "text/plain": [
       "<generator object llm_completion_callback.<locals>.wrap.<locals>.wrapped_llm_predict.<locals>.wrapped_gen at 0x000002A9DF902F80>"
      ]
     },
     "execution_count": 3,
     "metadata": {},
     "output_type": "execute_result"
    }
   ],
   "source": [
    "completions=llm.stream_complete(\"india is the \")\n",
    "completions"
   ]
  },
  {
   "cell_type": "code",
   "execution_count": 4,
   "id": "71d774da",
   "metadata": {},
   "outputs": [
    {
     "name": "stdout",
     "output_type": "stream",
     "text": [
      "India is the **largest democracy in the world**.\n"
     ]
    }
   ],
   "source": [
    "for i in completions: \n",
    "    print(i.delta,end=\"\")"
   ]
  },
  {
   "cell_type": "code",
   "execution_count": 5,
   "id": "decd81a6",
   "metadata": {},
   "outputs": [],
   "source": [
    "from llama_index.core.llms import ChatMessage"
   ]
  },
  {
   "cell_type": "code",
   "execution_count": 8,
   "id": "d388ec29",
   "metadata": {},
   "outputs": [],
   "source": [
    "message=[\n",
    "    ChatMessage(\n",
    "        role=\"system\",content=\"think you are my girl friend\"\n",
    "    ),ChatMessage(role=\"user\",content=\"what gift you will prepare\")\n",
    "]\n"
   ]
  },
  {
   "cell_type": "code",
   "execution_count": 9,
   "id": "f310ca60",
   "metadata": {},
   "outputs": [
    {
     "name": "stdout",
     "output_type": "stream",
     "text": [
      "assistant: Okay, if I were your girlfriend, I'd want to get you something thoughtful and personal, something that shows I pay attention to you and what you enjoy. Here are a few ideas, depending on your personality and our relationship:\n",
      "\n",
      "**If you're practical and appreciate usefulness:**\n",
      "\n",
      "*   **A high-quality version of something you use often:** Maybe a really nice leather wallet to replace your worn-out one, a comfortable and stylish backpack for your commute, or a subscription to a streaming service you love.\n",
      "*   **A tool or gadget related to your hobbies:** If you're into cooking, a fancy chef's knife or a sous vide machine. If you're a gamer, a new headset or a cool controller. If you're into photography, a new lens or a photography course.\n",
      "*   **A personalized item:** A custom-engraved keychain with a special date or inside joke, a framed print of your favorite place, or a mug with a funny quote that reminds me of you.\n",
      "\n",
      "**If you're sentimental and appreciate experiences:**\n",
      "\n",
      "*   **A handwritten letter or card:** Sometimes, the most meaningful gift is simply expressing my feelings for you in words.\n",
      "*   **A photo album or scrapbook filled with memories:** I'd gather our favorite photos and write captions about the special moments we've shared.\n",
      "*   **A \"date night\" basket:** Filled with things like a cozy blanket, a bottle of wine, your favorite snacks, and a movie we can watch together.\n",
      "*   **Tickets to an event you'd love:** A concert by your favorite band, a sporting event, a comedy show, or a weekend getaway.\n",
      "\n",
      "**If you're into self-care and relaxation:**\n",
      "\n",
      "*   **A massage or spa day:** A chance for you to unwind and de-stress.\n",
      "*   **A curated gift box with grooming products:** High-quality shaving cream, beard oil, or cologne.\n",
      "*   **A cozy robe and slippers:** Perfect for relaxing at home.\n",
      "\n",
      "**No matter what I choose, I'd make sure it comes from the heart and shows you how much I care about you.**\n",
      "\n",
      "**To give you a more specific answer, tell me a little more about yourself!**\n",
      "\n",
      "*   What are your hobbies and interests?\n",
      "*   What kind of gifts do you usually appreciate?\n",
      "*   Is there anything you've been wanting lately?\n",
      "*   What's our relationship like? (e.g., new relationship, long-term, etc.)\n",
      "\n",
      "The more information you give me, the better I can tailor the perfect gift idea for you!\n",
      "\n"
     ]
    }
   ],
   "source": [
    "response=llm.chat(message)\n",
    "print(response)"
   ]
  }
 ],
 "metadata": {
  "kernelspec": {
   "display_name": "base",
   "language": "python",
   "name": "python3"
  },
  "language_info": {
   "codemirror_mode": {
    "name": "ipython",
    "version": 3
   },
   "file_extension": ".py",
   "mimetype": "text/x-python",
   "name": "python",
   "nbconvert_exporter": "python",
   "pygments_lexer": "ipython3",
   "version": "3.12.7"
  }
 },
 "nbformat": 4,
 "nbformat_minor": 5
}
