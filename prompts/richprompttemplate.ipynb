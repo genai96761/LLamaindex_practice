{
 "cells": [
  {
   "cell_type": "code",
   "execution_count": 17,
   "id": "d864c703",
   "metadata": {},
   "outputs": [
    {
     "data": {
      "text/plain": [
       "True"
      ]
     },
     "execution_count": 17,
     "metadata": {},
     "output_type": "execute_result"
    }
   ],
   "source": [
    "from llama_index.core.prompts import RichPromptTemplate\n",
    "import os\n",
    "from dotenv import load_dotenv \n",
    "\n",
    "from llama_index.llms.google_genai import GoogleGenAI\n",
    "from llama_index.readers.web import SimpleWebPageReader\n",
    "from llama_index.core.schema import TextNode\n",
    "\n",
    "from llama_index.core import Settings, VectorStoreIndex\n",
    "\n",
    "load_dotenv()"
   ]
  },
  {
   "cell_type": "code",
   "execution_count": 19,
   "id": "99152a4c",
   "metadata": {},
   "outputs": [],
   "source": [
    "llm = GoogleGenAI(\n",
    "    model=\"gemini-2.0-flash\",\n",
    "    # api_key=\"some key\",  # uses GOOGLE_API_KEY env var by default\n",
    ")\n",
    "from llama_index.embeddings.google_genai import GoogleGenAIEmbedding\n",
    "\n",
    "\n",
    "embed_model = GoogleGenAIEmbedding(model_name=\"text-embedding-004\")"
   ]
  },
  {
   "cell_type": "code",
   "execution_count": 20,
   "id": "550e91e3",
   "metadata": {},
   "outputs": [],
   "source": [
    "text_to_sql_prompt_tmpl_str = \"\"\"\\\n",
    "You are a SQL expert. You are given a natural language query, and your job is to convert it into a SQL query.\n",
    "\n",
    "Here are some examples of how you should convert natural language to SQL:\n",
    "\n",
    "{{ examples }}\n",
    "\n",
    "\n",
    "Now it's your turn.\n",
    "\n",
    "Query: {{ query_str }}\n",
    "SQL: \n",
    "\"\"\""
   ]
  },
  {
   "cell_type": "code",
   "execution_count": 22,
   "id": "c60cb065",
   "metadata": {},
   "outputs": [],
   "source": [
    "example_nodes = [\n",
    "    TextNode(\n",
    "        text=\"Query: How many params does llama 2 have?\\nSQL: SELECT COUNT(*) FROM llama_2_params;\"\n",
    "    ),\n",
    "    TextNode(\n",
    "        text=\"Query: How many layers does llama 2 have?\\nSQL: SELECT COUNT(*) FROM llama_2_layers;\"\n",
    "    ),\n",
    "]\n",
    "\n",
    "\n",
    "\n",
    "index = VectorStoreIndex(nodes=example_nodes,embed_model=embed_model)\n",
    "\n",
    "# Create retriever\n",
    "retriever = index.as_retriever(similarity_top_k=1)"
   ]
  },
  {
   "cell_type": "code",
   "execution_count": 23,
   "id": "16cca431",
   "metadata": {},
   "outputs": [],
   "source": [
    "\n",
    "from llama_index.core.prompts import RichPromptTemplate\n",
    "\n",
    "\n",
    "def get_examples_fn(**kwargs):\n",
    "    query = kwargs[\"query_str\"]\n",
    "    examples = retriever.retrieve(query)\n",
    "    return \"\\n\\n\".join(node.text for node in examples)\n",
    "\n",
    "\n",
    "prompt_tmpl = RichPromptTemplate(\n",
    "    text_to_sql_prompt_tmpl_str,\n",
    "    function_mappings={\"examples\": get_examples_fn},\n",
    ")"
   ]
  },
  {
   "cell_type": "code",
   "execution_count": 26,
   "id": "3e252988",
   "metadata": {},
   "outputs": [
    {
     "name": "stdout",
     "output_type": "stream",
     "text": [
      "You are a SQL expert. You are given a natural language query, and your job is to convert it into a SQL query.\n",
      "\n",
      "Here are some examples of how you should convert natural language to SQL:\n",
      "\n",
      "Query: How many params does llama 2 have?\n",
      "SQL: SELECT COUNT(*) FROM llama_2_params;\n",
      "\n",
      "\n",
      "Now it's your turn.\n",
      "\n",
      "Query: i need to select the people with salary more than the 1000000\n",
      "SQL: \n"
     ]
    }
   ],
   "source": [
    "prompt = prompt_tmpl.format(\n",
    "    query_str=\"i need to select the people with salary more than the 1000000\"\n",
    ")\n",
    "print(prompt)"
   ]
  },
  {
   "cell_type": "code",
   "execution_count": 27,
   "id": "35a507f2",
   "metadata": {},
   "outputs": [
    {
     "name": "stdout",
     "output_type": "stream",
     "text": [
      "```sql\n",
      "SELECT * FROM people WHERE salary > 1000000;\n",
      "```\n"
     ]
    }
   ],
   "source": [
    "response=llm.complete(prompt)\n",
    "print(response.text)"
   ]
  }
 ],
 "metadata": {
  "kernelspec": {
   "display_name": "base",
   "language": "python",
   "name": "python3"
  },
  "language_info": {
   "codemirror_mode": {
    "name": "ipython",
    "version": 3
   },
   "file_extension": ".py",
   "mimetype": "text/x-python",
   "name": "python",
   "nbconvert_exporter": "python",
   "pygments_lexer": "ipython3",
   "version": "3.12.7"
  }
 },
 "nbformat": 4,
 "nbformat_minor": 5
}
