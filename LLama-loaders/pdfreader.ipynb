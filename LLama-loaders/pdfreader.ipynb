{
 "cells": [
  {
   "cell_type": "code",
   "execution_count": 2,
   "id": "a8750aba",
   "metadata": {},
   "outputs": [],
   "source": [
    "from llama_index.core import SimpleDirectoryReader\n",
    "from llama_index.readers.file import PDFReader\n"
   ]
  },
  {
   "cell_type": "code",
   "execution_count": 5,
   "id": "d8708ae0",
   "metadata": {},
   "outputs": [],
   "source": [
    "parser=PDFReader()\n",
    "file_extractor={\".pdf\":parser}\n",
    "documents=SimpleDirectoryReader(\n",
    "    \"data/\",file_extractor=file_extractor\n",
    ").load_data()"
   ]
  },
  {
   "cell_type": "code",
   "execution_count": 7,
   "id": "ec9caf6a",
   "metadata": {},
   "outputs": [
    {
     "data": {
      "text/plain": [
       "Document(id_='7c6531cb-4ad9-40cd-bbab-a0d60cacecf4', embedding=None, metadata={'page_label': '1', 'file_name': 'AMohanResume.pdf', 'file_path': 'c:\\\\Users\\\\91912\\\\OneDrive\\\\Desktop\\\\AI projects\\\\Practice\\\\Generative AI\\\\LLamaindex_practice\\\\LLama-loaders\\\\data\\\\AMohanResume.pdf', 'file_type': 'application/pdf', 'file_size': 116135, 'creation_date': '2025-05-04', 'last_modified_date': '2025-04-28'}, excluded_embed_metadata_keys=['file_name', 'file_type', 'file_size', 'creation_date', 'last_modified_date', 'last_accessed_date'], excluded_llm_metadata_keys=['file_name', 'file_type', 'file_size', 'creation_date', 'last_modified_date', 'last_accessed_date'], relationships={}, metadata_template='{key}: {value}', metadata_separator='\\n', text_resource=MediaResource(embeddings=None, data=None, text='A M \\nA.MOHAN\\nAWS & DEVOPS Engineer\\n\\x0091 9121844231 amohan7714@gmail.com\\nSUMMARY\\nI am a DevOps Engineer with 3.9 years of hands-on experience in building, deploying, and enhancing CI/CD processes in diverse environments. Skilled in using tools like Jenkins, Terraform, and Ansible for automating workflows and streamlining infrastructure as code. I aim to leverage my knowledge in AWS technologies alongside continuous integration practices to drive impactful changes in cloud-focused projects. My motivation lies in tackling new challenges that prompt personal and professional growth\\nEXPERIENCE\\nDevOps Engineer\\nAccenture Technologies Private Limited\\n05/2021 \\x00 01/1970\\xa0 Bangalore\\nA technology consulting and service company specializing in AI, cloud, and technology solutions\\nBuilt, deployed and released processes with various environmentsImplemented DevOps practices including source control with GIT and BitBucket, CI/CD using Jenkins, and deployment automation with AnsibleConfigured Jenkins from scratch and automating processes using Shell ScriptingManaged AWS cloud resources including EC2 instances and S3 bucketsExecuted migrations from on-premise data centers to AWSCreated and maintained Ansible playbooks for AWS environmentsDesigned high availability applications on AWS across zonesUtilized Docker for containerization and managing Kubernetes clusters\\nKEY ACHIEVEMENTS\\nAutomation of Deployment Processes\\nSuccessfully automated deployment processes from Jenkins to Kubernetes, significantly increasing release efficiency\\nSKILLS\\nAmazon EC2 Ansible Apache\\nApache Ant Apache Tomcat\\nAutomated Testing AWS AWS Cloud\\nAWS EC2 AWS Lambda AWS Services\\nAuto Scaling Build Tools Caching\\nCloudFormation CloudFront\\nCloudWatch Docker EC2\\nElasticsearch GCP Git GitHub\\nIAM IoT Jenkins Kubernetes\\nLinux MongoDB Maven Modular\\nNagios Nexus Nginx RDS\\nRed Hat Robotics Route 53 S3\\nSCM\\nPROJECTS\\nMayo Clinic\\n11/2022 \\x00 01/1970\\xa0\\nMayo Clinic focuses on integrating technologies with patient care and collaborates on digital health solutions\\nConfigured Jenkins and AWS services for deploymentAutomated the build and deployment mechanismManaged Docker Containers and created customized images\\nFedex, USA\\n05/2021 \\x00 11/2022\\xa0\\nFedEx is a global leader in logistics and transportation, leveraging technology for enhanced efficiency\\nContributed to FedEx by improving operational efficiency using advanced technologiesManaged source code and automated the build process successfullyImplemented all system administration tasks and maintained integrity checks\\nwww.enhancv.com\\n\\ue06d\\nPowered by\\n••\\n••••••\\n•\\n••\\n•\\n•\\n•\\nE \\ue069\\n\\ue06f', path=None, url=None, mimetype=None), image_resource=None, audio_resource=None, video_resource=None, text_template='{metadata_str}\\n\\n{content}')"
      ]
     },
     "execution_count": 7,
     "metadata": {},
     "output_type": "execute_result"
    }
   ],
   "source": [
    "documents[0]"
   ]
  }
 ],
 "metadata": {
  "kernelspec": {
   "display_name": "base",
   "language": "python",
   "name": "python3"
  },
  "language_info": {
   "codemirror_mode": {
    "name": "ipython",
    "version": 3
   },
   "file_extension": ".py",
   "mimetype": "text/x-python",
   "name": "python",
   "nbconvert_exporter": "python",
   "pygments_lexer": "ipython3",
   "version": "3.12.7"
  }
 },
 "nbformat": 4,
 "nbformat_minor": 5
}
