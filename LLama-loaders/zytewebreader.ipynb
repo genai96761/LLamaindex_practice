{
 "cells": [
  {
   "cell_type": "code",
   "execution_count": null,
   "id": "ab077431",
   "metadata": {},
   "outputs": [],
   "source": [
    "from llama_index.readers.web import ZyteWebReader\n",
    "\n",
    "# Required to run it in notebook\n",
    "# import nest_asyncio\n",
    "# nest_asyncio.apply()\n",
    "\n",
    "\n",
    "# Initiate ZyteWebReader with your Zyte API key\n",
    "zyte_reader = ZyteWebReader(\n",
    "    api_key=\"your ZYTE API key here\",\n",
    "    mode=\"article\",  # or \"html-text\" or \"html\"\n",
    ")\n",
    "\n",
    "urls = [\n",
    "    \"https://www.zyte.com/blog/web-scraping-apis/\",\n",
    "    \"https://www.zyte.com/blog/system-integrators-extract-big-data/\",\n",
    "]\n",
    "\n",
    "documents = zyte_reader.load_data(\n",
    "    urls=urls,\n",
    ")\n",
    "\n",
    "print(len(documents[0].text))"
   ]
  },
  {
   "cell_type": "code",
   "execution_count": null,
   "id": "729cbc91",
   "metadata": {},
   "outputs": [],
   "source": [
    "zyte_dw_params = {\n",
    "    \"browserHtml\": True,  # Enable browser rendering\n",
    "    \"javascript\": True,  # Enable JavaScript\n",
    "}\n",
    "\n",
    "# Initiate ZyteWebReader with your Zyte API key and use default \"article\" mode\n",
    "zyte_reader = ZyteWebReader(\n",
    "    api_key=\"your ZYTE API key here\",\n",
    "    download_kwargs=zyte_dw_params,\n",
    ")\n",
    "\n",
    "# Load documents from URLs\n",
    "documents = zyte_reader.load_data(\n",
    "    urls=urls,\n",
    ")"
   ]
  }
 ],
 "metadata": {
  "language_info": {
   "name": "python"
  }
 },
 "nbformat": 4,
 "nbformat_minor": 5
}
