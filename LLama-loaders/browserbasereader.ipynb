{
 "cells": [
  {
   "cell_type": "code",
   "execution_count": 1,
   "id": "89130c1b",
   "metadata": {},
   "outputs": [],
   "source": [
    "from llama_index.readers.web import BrowserbaseWebReader"
   ]
  },
  {
   "cell_type": "code",
   "execution_count": 2,
   "id": "15a5a30f",
   "metadata": {},
   "outputs": [
    {
     "ename": "TypeError",
     "evalue": "Browserbase.__init__() takes 1 positional argument but 3 were given",
     "output_type": "error",
     "traceback": [
      "\u001b[31m---------------------------------------------------------------------------\u001b[39m",
      "\u001b[31mTypeError\u001b[39m                                 Traceback (most recent call last)",
      "\u001b[36mCell\u001b[39m\u001b[36m \u001b[39m\u001b[32mIn[2]\u001b[39m\u001b[32m, line 1\u001b[39m\n\u001b[32m----> \u001b[39m\u001b[32m1\u001b[39m reader = \u001b[43mBrowserbaseWebReader\u001b[49m\u001b[43m(\u001b[49m\u001b[43m)\u001b[49m\n\u001b[32m      2\u001b[39m docs = reader.load_data(\n\u001b[32m      3\u001b[39m     urls=[\n\u001b[32m      4\u001b[39m         \u001b[33m\"\u001b[39m\u001b[33mhttps://github.com/genai96761/LLamaindex_projects#\u001b[39m\u001b[33m\"\u001b[39m,\n\u001b[32m   (...)\u001b[39m\u001b[32m      7\u001b[39m     text_content=\u001b[38;5;28;01mFalse\u001b[39;00m,\n\u001b[32m      8\u001b[39m )\n",
      "\u001b[36mFile \u001b[39m\u001b[32mc:\\Users\\91912\\anaconda3\\Lib\\site-packages\\llama_index\\readers\\web\\browserbase_web\\base.py:30\u001b[39m, in \u001b[36mBrowserbaseWebReader.__init__\u001b[39m\u001b[34m(self, api_key, project_id)\u001b[39m\n\u001b[32m     25\u001b[39m \u001b[38;5;28;01mexcept\u001b[39;00m \u001b[38;5;167;01mImportError\u001b[39;00m:\n\u001b[32m     26\u001b[39m     \u001b[38;5;28;01mraise\u001b[39;00m \u001b[38;5;167;01mImportError\u001b[39;00m(\n\u001b[32m     27\u001b[39m         \u001b[33m\"\u001b[39m\u001b[33m`browserbase` package not found, please run `pip install browserbase`\u001b[39m\u001b[33m\"\u001b[39m\n\u001b[32m     28\u001b[39m     )\n\u001b[32m---> \u001b[39m\u001b[32m30\u001b[39m \u001b[38;5;28mself\u001b[39m.browserbase = \u001b[43mBrowserbase\u001b[49m\u001b[43m(\u001b[49m\u001b[43mapi_key\u001b[49m\u001b[43m,\u001b[49m\u001b[43m \u001b[49m\u001b[43mproject_id\u001b[49m\u001b[43m)\u001b[49m\n",
      "\u001b[31mTypeError\u001b[39m: Browserbase.__init__() takes 1 positional argument but 3 were given"
     ]
    }
   ],
   "source": [
    "reader = BrowserbaseWebReader()\n",
    "docs = reader.load_data(\n",
    "    urls=[\n",
    "        \"https://github.com/genai96761/LLamaindex_projects#\",\n",
    "    ],\n",
    "    # Text mode\n",
    "    text_content=False,\n",
    ")"
   ]
  }
 ],
 "metadata": {
  "kernelspec": {
   "display_name": "base",
   "language": "python",
   "name": "python3"
  },
  "language_info": {
   "codemirror_mode": {
    "name": "ipython",
    "version": 3
   },
   "file_extension": ".py",
   "mimetype": "text/x-python",
   "name": "python",
   "nbconvert_exporter": "python",
   "pygments_lexer": "ipython3",
   "version": "3.12.7"
  }
 },
 "nbformat": 4,
 "nbformat_minor": 5
}
