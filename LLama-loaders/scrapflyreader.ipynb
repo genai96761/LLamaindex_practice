{
 "cells": [
  {
   "cell_type": "code",
   "execution_count": null,
   "id": "1f5c9b91",
   "metadata": {},
   "outputs": [],
   "source": [
    "from llama_index.readers.web import ScrapflyReader\n",
    "\n",
    "# Initiate ScrapflyReader with your ScrapFly API key\n",
    "scrapfly_reader = ScrapflyReader(\n",
    "    api_key=\"Your ScrapFly API key\",  # Get your API key from https://www.scrapfly.io/\n",
    "    ignore_scrape_failures=True,  # Ignore unprocessable web pages and log their exceptions\n",
    ")\n",
    "\n",
    "# Load documents from URLs as markdown\n",
    "documents = scrapfly_reader.load_data(\n",
    "    urls=[\"https://web-scraping.dev/products\"]\n",
    ")"
   ]
  }
 ],
 "metadata": {
  "language_info": {
   "name": "python"
  }
 },
 "nbformat": 4,
 "nbformat_minor": 5
}
