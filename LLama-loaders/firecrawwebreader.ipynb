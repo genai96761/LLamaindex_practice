{
 "cells": [
  {
   "cell_type": "code",
   "execution_count": 1,
   "id": "7a5e7b35",
   "metadata": {},
   "outputs": [],
   "source": [
    "from llama_index.readers.web import FireCrawlWebReader"
   ]
  },
  {
   "cell_type": "code",
   "execution_count": 2,
   "id": "14fcb8d7",
   "metadata": {},
   "outputs": [
    {
     "ename": "ImportError",
     "evalue": "`firecrawl` package not found, please run `pip install firecrawl-py`",
     "output_type": "error",
     "traceback": [
      "\u001b[31m---------------------------------------------------------------------------\u001b[39m",
      "\u001b[31mModuleNotFoundError\u001b[39m                       Traceback (most recent call last)",
      "\u001b[36mFile \u001b[39m\u001b[32mc:\\Users\\91912\\anaconda3\\Lib\\site-packages\\llama_index\\readers\\web\\firecrawl_web\\base.py:46\u001b[39m, in \u001b[36mFireCrawlWebReader.__init__\u001b[39m\u001b[34m(self, api_key, api_url, mode, params)\u001b[39m\n\u001b[32m     45\u001b[39m \u001b[38;5;28;01mtry\u001b[39;00m:\n\u001b[32m---> \u001b[39m\u001b[32m46\u001b[39m     \u001b[38;5;28;01mfrom\u001b[39;00m\u001b[38;5;250m \u001b[39m\u001b[34;01mfirecrawl\u001b[39;00m\u001b[38;5;250m \u001b[39m\u001b[38;5;28;01mimport\u001b[39;00m FirecrawlApp\n\u001b[32m     47\u001b[39m \u001b[38;5;28;01mexcept\u001b[39;00m \u001b[38;5;167;01mImportError\u001b[39;00m:\n",
      "\u001b[31mModuleNotFoundError\u001b[39m: No module named 'firecrawl'",
      "\nDuring handling of the above exception, another exception occurred:\n",
      "\u001b[31mImportError\u001b[39m                               Traceback (most recent call last)",
      "\u001b[36mCell\u001b[39m\u001b[36m \u001b[39m\u001b[32mIn[2]\u001b[39m\u001b[32m, line 2\u001b[39m\n\u001b[32m      1\u001b[39m \u001b[38;5;66;03m# using firecrawl to crawl a website\u001b[39;00m\n\u001b[32m----> \u001b[39m\u001b[32m2\u001b[39m firecrawl_reader = \u001b[43mFireCrawlWebReader\u001b[49m\u001b[43m(\u001b[49m\n\u001b[32m      3\u001b[39m \u001b[43m    \u001b[49m\u001b[43mapi_key\u001b[49m\u001b[43m=\u001b[49m\u001b[33;43m\"\u001b[39;49m\u001b[33;43m\"\u001b[39;49m\u001b[43m,\u001b[49m\u001b[43m  \u001b[49m\u001b[38;5;66;43;03m# Replace with your actual API key from https://www.firecrawl.dev/\u001b[39;49;00m\n\u001b[32m      4\u001b[39m \u001b[43m    \u001b[49m\u001b[43mmode\u001b[49m\u001b[43m=\u001b[49m\u001b[33;43m\"\u001b[39;49m\u001b[33;43mscrape\u001b[39;49m\u001b[33;43m\"\u001b[39;49m\u001b[43m,\u001b[49m\u001b[43m  \u001b[49m\u001b[38;5;66;43;03m# Choose between \"crawl\" and \"scrape\" for single page scraping\u001b[39;49;00m\n\u001b[32m      5\u001b[39m \u001b[43m    \u001b[49m\u001b[43mparams\u001b[49m\u001b[43m=\u001b[49m\u001b[43m{\u001b[49m\u001b[33;43m\"\u001b[39;49m\u001b[33;43madditional\u001b[39;49m\u001b[33;43m\"\u001b[39;49m\u001b[43m:\u001b[49m\u001b[43m \u001b[49m\u001b[33;43m\"\u001b[39;49m\u001b[33;43mparameters\u001b[39;49m\u001b[33;43m\"\u001b[39;49m\u001b[43m}\u001b[49m\u001b[43m,\u001b[49m\u001b[43m  \u001b[49m\u001b[38;5;66;43;03m# Optional additional parameters\u001b[39;49;00m\n\u001b[32m      6\u001b[39m \u001b[43m)\u001b[49m\n\u001b[32m      8\u001b[39m \u001b[38;5;66;03m# Load documents from a single page URL\u001b[39;00m\n\u001b[32m      9\u001b[39m documents = firecrawl_reader.load_data(url=\u001b[33m\"\u001b[39m\u001b[33mhttp://paulgraham.com/\u001b[39m\u001b[33m\"\u001b[39m)\n",
      "\u001b[36mFile \u001b[39m\u001b[32mc:\\Users\\91912\\anaconda3\\Lib\\site-packages\\llama_index\\readers\\web\\firecrawl_web\\base.py:48\u001b[39m, in \u001b[36mFireCrawlWebReader.__init__\u001b[39m\u001b[34m(self, api_key, api_url, mode, params)\u001b[39m\n\u001b[32m     46\u001b[39m     \u001b[38;5;28;01mfrom\u001b[39;00m\u001b[38;5;250m \u001b[39m\u001b[34;01mfirecrawl\u001b[39;00m\u001b[38;5;250m \u001b[39m\u001b[38;5;28;01mimport\u001b[39;00m FirecrawlApp\n\u001b[32m     47\u001b[39m \u001b[38;5;28;01mexcept\u001b[39;00m \u001b[38;5;167;01mImportError\u001b[39;00m:\n\u001b[32m---> \u001b[39m\u001b[32m48\u001b[39m     \u001b[38;5;28;01mraise\u001b[39;00m \u001b[38;5;167;01mImportError\u001b[39;00m(\n\u001b[32m     49\u001b[39m         \u001b[33m\"\u001b[39m\u001b[33m`firecrawl` package not found, please run `pip install firecrawl-py`\u001b[39m\u001b[33m\"\u001b[39m\n\u001b[32m     50\u001b[39m     )\n\u001b[32m     51\u001b[39m \u001b[38;5;28;01mif\u001b[39;00m api_url:\n\u001b[32m     52\u001b[39m     \u001b[38;5;28mself\u001b[39m.firecrawl = FirecrawlApp(api_key=api_key, api_url=api_url)\n",
      "\u001b[31mImportError\u001b[39m: `firecrawl` package not found, please run `pip install firecrawl-py`"
     ]
    }
   ],
   "source": [
    "# using firecrawl to crawl a website\n",
    "firecrawl_reader = FireCrawlWebReader(\n",
    "    api_key=\"\",  # Replace with your actual API key from https://www.firecrawl.dev/\n",
    "    mode=\"scrape\",  # Choose between \"crawl\" and \"scrape\" for single page scraping\n",
    "    params={\"additional\": \"parameters\"},  # Optional additional parameters\n",
    ")\n",
    "\n",
    "# Load documents from a single page URL\n",
    "documents = firecrawl_reader.load_data(url=\"http://paulgraham.com/\")"
   ]
  },
  {
   "cell_type": "code",
   "execution_count": null,
   "id": "52e1ebc0",
   "metadata": {},
   "outputs": [],
   "source": [
    "index = SummaryIndex.from_documents(documents)"
   ]
  },
  {
   "cell_type": "code",
   "execution_count": null,
   "id": "31bbfce2",
   "metadata": {},
   "outputs": [],
   "source": [
    "# set Logging to DEBUG for more detailed outputs\n",
    "query_engine = index.as_query_engine()\n",
    "response = query_engine.query(\"What did the author do growing up?\")"
   ]
  },
  {
   "cell_type": "code",
   "execution_count": 3,
   "id": "72fb699d",
   "metadata": {},
   "outputs": [
    {
     "ename": "ImportError",
     "evalue": "`firecrawl` package not found, please run `pip install firecrawl-py`",
     "output_type": "error",
     "traceback": [
      "\u001b[31m---------------------------------------------------------------------------\u001b[39m",
      "\u001b[31mModuleNotFoundError\u001b[39m                       Traceback (most recent call last)",
      "\u001b[36mFile \u001b[39m\u001b[32mc:\\Users\\91912\\anaconda3\\Lib\\site-packages\\llama_index\\readers\\web\\firecrawl_web\\base.py:46\u001b[39m, in \u001b[36mFireCrawlWebReader.__init__\u001b[39m\u001b[34m(self, api_key, api_url, mode, params)\u001b[39m\n\u001b[32m     45\u001b[39m \u001b[38;5;28;01mtry\u001b[39;00m:\n\u001b[32m---> \u001b[39m\u001b[32m46\u001b[39m     \u001b[38;5;28;01mfrom\u001b[39;00m\u001b[38;5;250m \u001b[39m\u001b[34;01mfirecrawl\u001b[39;00m\u001b[38;5;250m \u001b[39m\u001b[38;5;28;01mimport\u001b[39;00m FirecrawlApp\n\u001b[32m     47\u001b[39m \u001b[38;5;28;01mexcept\u001b[39;00m \u001b[38;5;167;01mImportError\u001b[39;00m:\n",
      "\u001b[31mModuleNotFoundError\u001b[39m: No module named 'firecrawl'",
      "\nDuring handling of the above exception, another exception occurred:\n",
      "\u001b[31mImportError\u001b[39m                               Traceback (most recent call last)",
      "\u001b[36mCell\u001b[39m\u001b[36m \u001b[39m\u001b[32mIn[3]\u001b[39m\u001b[32m, line 4\u001b[39m\n\u001b[32m      1\u001b[39m \u001b[38;5;66;03m# Initialize the FireCrawlWebReader with your API key and desired mode\u001b[39;00m\n\u001b[32m      2\u001b[39m \u001b[38;5;28;01mfrom\u001b[39;00m\u001b[38;5;250m \u001b[39m\u001b[34;01mllama_index\u001b[39;00m\u001b[34;01m.\u001b[39;00m\u001b[34;01mreaders\u001b[39;00m\u001b[34;01m.\u001b[39;00m\u001b[34;01mweb\u001b[39;00m\u001b[34;01m.\u001b[39;00m\u001b[34;01mfirecrawl_web\u001b[39;00m\u001b[34;01m.\u001b[39;00m\u001b[34;01mbase\u001b[39;00m\u001b[38;5;250m \u001b[39m\u001b[38;5;28;01mimport\u001b[39;00m FireCrawlWebReader\n\u001b[32m----> \u001b[39m\u001b[32m4\u001b[39m firecrawl_reader = \u001b[43mFireCrawlWebReader\u001b[49m\u001b[43m(\u001b[49m\n\u001b[32m      5\u001b[39m \u001b[43m    \u001b[49m\u001b[43mapi_key\u001b[49m\u001b[43m=\u001b[49m\u001b[33;43m\"\u001b[39;49m\u001b[33;43m\"\u001b[39;49m\u001b[43m,\u001b[49m\u001b[43m  \u001b[49m\u001b[38;5;66;43;03m# Replace with your actual API key from https://www.firecrawl.dev/\u001b[39;49;00m\n\u001b[32m      6\u001b[39m \u001b[43m    \u001b[49m\u001b[43mmode\u001b[49m\u001b[43m=\u001b[49m\u001b[33;43m\"\u001b[39;49m\u001b[33;43mscrape\u001b[39;49m\u001b[33;43m\"\u001b[39;49m\u001b[43m,\u001b[49m\u001b[43m  \u001b[49m\u001b[38;5;66;43;03m# Choose between \"crawl\" and \"scrape\" for single page scraping\u001b[39;49;00m\n\u001b[32m      7\u001b[39m \u001b[43m    \u001b[49m\u001b[43mparams\u001b[49m\u001b[43m=\u001b[49m\u001b[43m{\u001b[49m\u001b[33;43m\"\u001b[39;49m\u001b[33;43madditional\u001b[39;49m\u001b[33;43m\"\u001b[39;49m\u001b[43m:\u001b[49m\u001b[43m \u001b[49m\u001b[33;43m\"\u001b[39;49m\u001b[33;43mparameters\u001b[39;49m\u001b[33;43m\"\u001b[39;49m\u001b[43m}\u001b[49m\u001b[43m,\u001b[49m\u001b[43m  \u001b[49m\u001b[38;5;66;43;03m# Optional additional parameters\u001b[39;49;00m\n\u001b[32m      8\u001b[39m \u001b[43m)\u001b[49m\n\u001b[32m     10\u001b[39m \u001b[38;5;66;03m# Load documents from a single page URL\u001b[39;00m\n\u001b[32m     11\u001b[39m documents = firecrawl_reader.load_data(url=\u001b[33m\"\u001b[39m\u001b[33mhttp://paulgraham.com/worked.html\u001b[39m\u001b[33m\"\u001b[39m)\n",
      "\u001b[36mFile \u001b[39m\u001b[32mc:\\Users\\91912\\anaconda3\\Lib\\site-packages\\llama_index\\readers\\web\\firecrawl_web\\base.py:48\u001b[39m, in \u001b[36mFireCrawlWebReader.__init__\u001b[39m\u001b[34m(self, api_key, api_url, mode, params)\u001b[39m\n\u001b[32m     46\u001b[39m     \u001b[38;5;28;01mfrom\u001b[39;00m\u001b[38;5;250m \u001b[39m\u001b[34;01mfirecrawl\u001b[39;00m\u001b[38;5;250m \u001b[39m\u001b[38;5;28;01mimport\u001b[39;00m FirecrawlApp\n\u001b[32m     47\u001b[39m \u001b[38;5;28;01mexcept\u001b[39;00m \u001b[38;5;167;01mImportError\u001b[39;00m:\n\u001b[32m---> \u001b[39m\u001b[32m48\u001b[39m     \u001b[38;5;28;01mraise\u001b[39;00m \u001b[38;5;167;01mImportError\u001b[39;00m(\n\u001b[32m     49\u001b[39m         \u001b[33m\"\u001b[39m\u001b[33m`firecrawl` package not found, please run `pip install firecrawl-py`\u001b[39m\u001b[33m\"\u001b[39m\n\u001b[32m     50\u001b[39m     )\n\u001b[32m     51\u001b[39m \u001b[38;5;28;01mif\u001b[39;00m api_url:\n\u001b[32m     52\u001b[39m     \u001b[38;5;28mself\u001b[39m.firecrawl = FirecrawlApp(api_key=api_key, api_url=api_url)\n",
      "\u001b[31mImportError\u001b[39m: `firecrawl` package not found, please run `pip install firecrawl-py`"
     ]
    }
   ],
   "source": [
    "# Initialize the FireCrawlWebReader with your API key and desired mode\n",
    "from llama_index.readers.web.firecrawl_web.base import FireCrawlWebReader\n",
    "\n",
    "firecrawl_reader = FireCrawlWebReader(\n",
    "    api_key=\"\",  # Replace with your actual API key from https://www.firecrawl.dev/\n",
    "    mode=\"scrape\",  # Choose between \"crawl\" and \"scrape\" for single page scraping\n",
    "    params={\"additional\": \"parameters\"},  # Optional additional parameters\n",
    ")\n",
    "\n",
    "# Load documents from a single page URL\n",
    "documents = firecrawl_reader.load_data(url=\"http://paulgraham.com/worked.html\")"
   ]
  },
  {
   "cell_type": "code",
   "execution_count": null,
   "id": "d5027f7a",
   "metadata": {},
   "outputs": [],
   "source": [
    "index = SummaryIndex.from_documents(documents)"
   ]
  }
 ],
 "metadata": {
  "kernelspec": {
   "display_name": "base",
   "language": "python",
   "name": "python3"
  },
  "language_info": {
   "codemirror_mode": {
    "name": "ipython",
    "version": 3
   },
   "file_extension": ".py",
   "mimetype": "text/x-python",
   "name": "python",
   "nbconvert_exporter": "python",
   "pygments_lexer": "ipython3",
   "version": "3.12.7"
  }
 },
 "nbformat": 4,
 "nbformat_minor": 5
}
