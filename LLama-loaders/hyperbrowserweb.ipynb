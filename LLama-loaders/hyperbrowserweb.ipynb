{
 "cells": [
  {
   "cell_type": "code",
   "execution_count": null,
   "id": "154e10f2",
   "metadata": {},
   "outputs": [],
   "source": [
    "\n",
    "from llama_index.readers.web import HyperbrowserWebReader\n",
    "\n",
    "reader = HyperbrowserWebReader(api_key=\"your_api_key_here\")\n",
    "docs = reader.load_data(\n",
    "    urls=[\"https://example.com\"],\n",
    "    operation=\"scrape\",\n",
    ")\n",
    "docs"
   ]
  }
 ],
 "metadata": {
  "language_info": {
   "name": "python"
  }
 },
 "nbformat": 4,
 "nbformat_minor": 5
}
