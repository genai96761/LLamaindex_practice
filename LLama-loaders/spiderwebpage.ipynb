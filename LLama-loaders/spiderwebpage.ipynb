{
 "cells": [
  {
   "cell_type": "code",
   "execution_count": null,
   "id": "e3359a0f",
   "metadata": {},
   "outputs": [],
   "source": [
    "\n",
    "# Scrape single URL\n",
    "from llama_index.readers.web import SpiderWebReader\n",
    "\n",
    "spider_reader = SpiderWebReader(\n",
    "    api_key=\"YOUR_API_KEY\",  # Get one at https://spider.cloud\n",
    "    mode=\"scrape\",\n",
    "    # params={} # Optional parameters see more on https://spider.cloud/docs/api\n",
    ")\n",
    "\n",
    "documents = spider_reader.load_data(url=\"https://spider.cloud\")\n",
    "print(documents)"
   ]
  }
 ],
 "metadata": {
  "language_info": {
   "name": "python"
  }
 },
 "nbformat": 4,
 "nbformat_minor": 5
}
